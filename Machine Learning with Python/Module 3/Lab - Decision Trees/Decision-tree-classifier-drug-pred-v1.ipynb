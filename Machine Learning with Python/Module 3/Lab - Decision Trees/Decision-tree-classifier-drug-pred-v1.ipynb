{
 "cells": [
  {
   "cell_type": "markdown",
   "id": "a7755d9c-f285-469c-a670-861e200af8af",
   "metadata": {},
   "source": [
    "# Decision Trees\n",
    "\n",
    "## Objectives\n",
    "\n",
    "After completing this lab you will be able to:\n",
    "\n",
    "* Develop a classification model using Decision Tree Algorithm\n",
    "* Apply Decision Tree classification on a real world dataset.\n"
   ]
  },
  {
   "cell_type": "markdown",
   "id": "f244872f-fd21-485b-b939-92d86506373f",
   "metadata": {},
   "source": [
    "## Introduction\n",
    "\n",
    "This lab explores decision tree classification, a powerful machine learning technique for making data-driven decisions. You will learn to build, visualize, and evaluate decision trees using a real-world dataset. The dataset used in this lab is that of Drug prediction based on the health parameters of a patient.\n"
   ]
  },
  {
   "cell_type": "markdown",
   "id": "1bff18f1-c646-4744-8469-95e2f570278b",
   "metadata": {},
   "source": [
    "### Importing Libraries\n",
    "First, to make sure that the required libraries are available, execute the cell below.\n"
   ]
  },
  {
   "cell_type": "code",
   "execution_count": 1,
   "id": "00acf5a9-63ee-45f1-9447-47ace125dfb1",
   "metadata": {},
   "outputs": [
    {
     "name": "stdout",
     "output_type": "stream",
     "text": [
      "Requirement already satisfied: numpy==2.2.0 in /Library/Frameworks/Python.framework/Versions/3.12/lib/python3.12/site-packages (2.2.0)\n",
      "Requirement already satisfied: pandas==2.2.3 in /Library/Frameworks/Python.framework/Versions/3.12/lib/python3.12/site-packages (2.2.3)\n",
      "Requirement already satisfied: numpy>=1.26.0 in /Library/Frameworks/Python.framework/Versions/3.12/lib/python3.12/site-packages (from pandas==2.2.3) (2.2.0)\n",
      "Requirement already satisfied: python-dateutil>=2.8.2 in /Library/Frameworks/Python.framework/Versions/3.12/lib/python3.12/site-packages (from pandas==2.2.3) (2.9.0.post0)\n",
      "Requirement already satisfied: pytz>=2020.1 in /Library/Frameworks/Python.framework/Versions/3.12/lib/python3.12/site-packages (from pandas==2.2.3) (2025.1)\n",
      "Requirement already satisfied: tzdata>=2022.7 in /Library/Frameworks/Python.framework/Versions/3.12/lib/python3.12/site-packages (from pandas==2.2.3) (2025.1)\n",
      "Requirement already satisfied: six>=1.5 in /Library/Frameworks/Python.framework/Versions/3.12/lib/python3.12/site-packages (from python-dateutil>=2.8.2->pandas==2.2.3) (1.16.0)\n",
      "Requirement already satisfied: scikit-learn==1.6.0 in /Library/Frameworks/Python.framework/Versions/3.12/lib/python3.12/site-packages (1.6.0)\n",
      "Requirement already satisfied: numpy>=1.19.5 in /Library/Frameworks/Python.framework/Versions/3.12/lib/python3.12/site-packages (from scikit-learn==1.6.0) (2.2.0)\n",
      "Requirement already satisfied: scipy>=1.6.0 in /Library/Frameworks/Python.framework/Versions/3.12/lib/python3.12/site-packages (from scikit-learn==1.6.0) (1.15.2)\n",
      "Requirement already satisfied: joblib>=1.2.0 in /Library/Frameworks/Python.framework/Versions/3.12/lib/python3.12/site-packages (from scikit-learn==1.6.0) (1.4.2)\n",
      "Requirement already satisfied: threadpoolctl>=3.1.0 in /Library/Frameworks/Python.framework/Versions/3.12/lib/python3.12/site-packages (from scikit-learn==1.6.0) (3.5.0)\n",
      "Requirement already satisfied: matplotlib==3.9.3 in /Library/Frameworks/Python.framework/Versions/3.12/lib/python3.12/site-packages (3.9.3)\n",
      "Requirement already satisfied: contourpy>=1.0.1 in /Library/Frameworks/Python.framework/Versions/3.12/lib/python3.12/site-packages (from matplotlib==3.9.3) (1.3.1)\n",
      "Requirement already satisfied: cycler>=0.10 in /Library/Frameworks/Python.framework/Versions/3.12/lib/python3.12/site-packages (from matplotlib==3.9.3) (0.12.1)\n",
      "Requirement already satisfied: fonttools>=4.22.0 in /Library/Frameworks/Python.framework/Versions/3.12/lib/python3.12/site-packages (from matplotlib==3.9.3) (4.56.0)\n",
      "Requirement already satisfied: kiwisolver>=1.3.1 in /Library/Frameworks/Python.framework/Versions/3.12/lib/python3.12/site-packages (from matplotlib==3.9.3) (1.4.8)\n",
      "Requirement already satisfied: numpy>=1.23 in /Library/Frameworks/Python.framework/Versions/3.12/lib/python3.12/site-packages (from matplotlib==3.9.3) (2.2.0)\n",
      "Requirement already satisfied: packaging>=20.0 in /Library/Frameworks/Python.framework/Versions/3.12/lib/python3.12/site-packages (from matplotlib==3.9.3) (24.1)\n",
      "Requirement already satisfied: pillow>=8 in /Library/Frameworks/Python.framework/Versions/3.12/lib/python3.12/site-packages (from matplotlib==3.9.3) (10.4.0)\n",
      "Requirement already satisfied: pyparsing>=2.3.1 in /Library/Frameworks/Python.framework/Versions/3.12/lib/python3.12/site-packages (from matplotlib==3.9.3) (3.2.1)\n",
      "Requirement already satisfied: python-dateutil>=2.7 in /Library/Frameworks/Python.framework/Versions/3.12/lib/python3.12/site-packages (from matplotlib==3.9.3) (2.9.0.post0)\n",
      "Requirement already satisfied: six>=1.5 in /Library/Frameworks/Python.framework/Versions/3.12/lib/python3.12/site-packages (from python-dateutil>=2.7->matplotlib==3.9.3) (1.16.0)\n"
     ]
    }
   ],
   "source": [
    "!pip install numpy==2.2.0\n",
    "!pip install pandas==2.2.3\n",
    "!pip install scikit-learn==1.6.0\n",
    "!pip install matplotlib==3.9.3"
   ]
  },
  {
   "cell_type": "markdown",
   "id": "e551eb89-1dc9-4740-b3c5-c8a20b7a9551",
   "metadata": {},
   "source": [
    "Now import the required libraries for this lab.\n"
   ]
  },
  {
   "cell_type": "code",
   "execution_count": 2,
   "id": "7f5f2b4f-3325-40ab-b8c2-28df7ae62b9b",
   "metadata": {},
   "outputs": [],
   "source": [
    "import numpy as np \n",
    "import pandas as pd\n",
    "from matplotlib import pyplot as plt\n",
    "from sklearn.preprocessing import LabelEncoder\n",
    "from sklearn.model_selection import train_test_split\n",
    "from sklearn.tree import DecisionTreeClassifier, plot_tree\n",
    "from sklearn import metrics\n",
    "\n",
    "%matplotlib inline\n",
    "\n",
    "import warnings\n",
    "warnings.filterwarnings('ignore')"
   ]
  },
  {
   "cell_type": "markdown",
   "id": "c0638664-35e8-4cf6-a274-d21234e251f1",
   "metadata": {},
   "source": [
    "### About the dataset\n",
    "Imagine that you are a medical researcher compiling data for a study. You have collected data about a set of patients, all of whom suffered from the same illness. During their course of treatment, each patient responded to one of 5 medications, Drug A, Drug B, Drug C, Drug X and Drug Y. \n",
    "\n",
    "Part of your job is to build a model to find out which drug might be appropriate for a future patient with the same illness. The features of this dataset are the Age, Sex, Blood Pressure, and Cholesterol of the patients, and the target is the drug that each patient responded to.\n",
    "\n",
    "It is a sample of a multiclass classifier, and you can use the training part of the dataset to build a decision tree, and then use it to predict the class of an unknown patient or to prescribe a drug to a new patient.\n"
   ]
  },
  {
   "cell_type": "markdown",
   "id": "e40a2952-4444-4d26-b3fc-e034b1c7e1a3",
   "metadata": {},
   "source": [
    "<div id=\"downloading_data\"> \n",
    "    <h2>Downloading the Data</h2>\n",
    "    To download the data, we will use !wget to download it from IBM Object Storage.\n",
    "</div>\n"
   ]
  },
  {
   "cell_type": "code",
   "execution_count": 3,
   "id": "42ce873f-535e-4c3e-a7d9-d8589333bedc",
   "metadata": {},
   "outputs": [
    {
     "data": {
      "application/vnd.microsoft.datawrangler.viewer.v0+json": {
       "columns": [
        {
         "name": "index",
         "rawType": "int64",
         "type": "integer"
        },
        {
         "name": "Age",
         "rawType": "int64",
         "type": "integer"
        },
        {
         "name": "Sex",
         "rawType": "object",
         "type": "string"
        },
        {
         "name": "BP",
         "rawType": "object",
         "type": "string"
        },
        {
         "name": "Cholesterol",
         "rawType": "object",
         "type": "string"
        },
        {
         "name": "Na_to_K",
         "rawType": "float64",
         "type": "float"
        },
        {
         "name": "Drug",
         "rawType": "object",
         "type": "string"
        }
       ],
       "ref": "1566b185-f366-426c-811a-9cc555315a5b",
       "rows": [
        [
         "0",
         "23",
         "F",
         "HIGH",
         "HIGH",
         "25.355",
         "drugY"
        ],
        [
         "1",
         "47",
         "M",
         "LOW",
         "HIGH",
         "13.093",
         "drugC"
        ],
        [
         "2",
         "47",
         "M",
         "LOW",
         "HIGH",
         "10.114",
         "drugC"
        ],
        [
         "3",
         "28",
         "F",
         "NORMAL",
         "HIGH",
         "7.798",
         "drugX"
        ],
        [
         "4",
         "61",
         "F",
         "LOW",
         "HIGH",
         "18.043",
         "drugY"
        ],
        [
         "5",
         "22",
         "F",
         "NORMAL",
         "HIGH",
         "8.607",
         "drugX"
        ],
        [
         "6",
         "49",
         "F",
         "NORMAL",
         "HIGH",
         "16.275",
         "drugY"
        ],
        [
         "7",
         "41",
         "M",
         "LOW",
         "HIGH",
         "11.037",
         "drugC"
        ],
        [
         "8",
         "60",
         "M",
         "NORMAL",
         "HIGH",
         "15.171",
         "drugY"
        ],
        [
         "9",
         "43",
         "M",
         "LOW",
         "NORMAL",
         "19.368",
         "drugY"
        ],
        [
         "10",
         "47",
         "F",
         "LOW",
         "HIGH",
         "11.767",
         "drugC"
        ],
        [
         "11",
         "34",
         "F",
         "HIGH",
         "NORMAL",
         "19.199",
         "drugY"
        ],
        [
         "12",
         "43",
         "M",
         "LOW",
         "HIGH",
         "15.376",
         "drugY"
        ],
        [
         "13",
         "74",
         "F",
         "LOW",
         "HIGH",
         "20.942",
         "drugY"
        ],
        [
         "14",
         "50",
         "F",
         "NORMAL",
         "HIGH",
         "12.703",
         "drugX"
        ],
        [
         "15",
         "16",
         "F",
         "HIGH",
         "NORMAL",
         "15.516",
         "drugY"
        ],
        [
         "16",
         "69",
         "M",
         "LOW",
         "NORMAL",
         "11.455",
         "drugX"
        ],
        [
         "17",
         "43",
         "M",
         "HIGH",
         "HIGH",
         "13.972",
         "drugA"
        ],
        [
         "18",
         "23",
         "M",
         "LOW",
         "HIGH",
         "7.298",
         "drugC"
        ],
        [
         "19",
         "32",
         "F",
         "HIGH",
         "NORMAL",
         "25.974",
         "drugY"
        ],
        [
         "20",
         "57",
         "M",
         "LOW",
         "NORMAL",
         "19.128",
         "drugY"
        ],
        [
         "21",
         "63",
         "M",
         "NORMAL",
         "HIGH",
         "25.917",
         "drugY"
        ],
        [
         "22",
         "47",
         "M",
         "LOW",
         "NORMAL",
         "30.568",
         "drugY"
        ],
        [
         "23",
         "48",
         "F",
         "LOW",
         "HIGH",
         "15.036",
         "drugY"
        ],
        [
         "24",
         "33",
         "F",
         "LOW",
         "HIGH",
         "33.486",
         "drugY"
        ],
        [
         "25",
         "28",
         "F",
         "HIGH",
         "NORMAL",
         "18.809",
         "drugY"
        ],
        [
         "26",
         "31",
         "M",
         "HIGH",
         "HIGH",
         "30.366",
         "drugY"
        ],
        [
         "27",
         "49",
         "F",
         "NORMAL",
         "NORMAL",
         "9.381",
         "drugX"
        ],
        [
         "28",
         "39",
         "F",
         "LOW",
         "NORMAL",
         "22.697",
         "drugY"
        ],
        [
         "29",
         "45",
         "M",
         "LOW",
         "HIGH",
         "17.951",
         "drugY"
        ],
        [
         "30",
         "18",
         "F",
         "NORMAL",
         "NORMAL",
         "8.75",
         "drugX"
        ],
        [
         "31",
         "74",
         "M",
         "HIGH",
         "HIGH",
         "9.567",
         "drugB"
        ],
        [
         "32",
         "49",
         "M",
         "LOW",
         "NORMAL",
         "11.014",
         "drugX"
        ],
        [
         "33",
         "65",
         "F",
         "HIGH",
         "NORMAL",
         "31.876",
         "drugY"
        ],
        [
         "34",
         "53",
         "M",
         "NORMAL",
         "HIGH",
         "14.133",
         "drugX"
        ],
        [
         "35",
         "46",
         "M",
         "NORMAL",
         "NORMAL",
         "7.285",
         "drugX"
        ],
        [
         "36",
         "32",
         "M",
         "HIGH",
         "NORMAL",
         "9.445",
         "drugA"
        ],
        [
         "37",
         "39",
         "M",
         "LOW",
         "NORMAL",
         "13.938",
         "drugX"
        ],
        [
         "38",
         "39",
         "F",
         "NORMAL",
         "NORMAL",
         "9.709",
         "drugX"
        ],
        [
         "39",
         "15",
         "M",
         "NORMAL",
         "HIGH",
         "9.084",
         "drugX"
        ],
        [
         "40",
         "73",
         "F",
         "NORMAL",
         "HIGH",
         "19.221",
         "drugY"
        ],
        [
         "41",
         "58",
         "F",
         "HIGH",
         "NORMAL",
         "14.239",
         "drugB"
        ],
        [
         "42",
         "50",
         "M",
         "NORMAL",
         "NORMAL",
         "15.79",
         "drugY"
        ],
        [
         "43",
         "23",
         "M",
         "NORMAL",
         "HIGH",
         "12.26",
         "drugX"
        ],
        [
         "44",
         "50",
         "F",
         "NORMAL",
         "NORMAL",
         "12.295",
         "drugX"
        ],
        [
         "45",
         "66",
         "F",
         "NORMAL",
         "NORMAL",
         "8.107",
         "drugX"
        ],
        [
         "46",
         "37",
         "F",
         "HIGH",
         "HIGH",
         "13.091",
         "drugA"
        ],
        [
         "47",
         "68",
         "M",
         "LOW",
         "HIGH",
         "10.291",
         "drugC"
        ],
        [
         "48",
         "23",
         "M",
         "NORMAL",
         "HIGH",
         "31.686",
         "drugY"
        ],
        [
         "49",
         "28",
         "F",
         "LOW",
         "HIGH",
         "19.796",
         "drugY"
        ]
       ],
       "shape": {
        "columns": 6,
        "rows": 200
       }
      },
      "text/html": [
       "<div>\n",
       "<style scoped>\n",
       "    .dataframe tbody tr th:only-of-type {\n",
       "        vertical-align: middle;\n",
       "    }\n",
       "\n",
       "    .dataframe tbody tr th {\n",
       "        vertical-align: top;\n",
       "    }\n",
       "\n",
       "    .dataframe thead th {\n",
       "        text-align: right;\n",
       "    }\n",
       "</style>\n",
       "<table border=\"1\" class=\"dataframe\">\n",
       "  <thead>\n",
       "    <tr style=\"text-align: right;\">\n",
       "      <th></th>\n",
       "      <th>Age</th>\n",
       "      <th>Sex</th>\n",
       "      <th>BP</th>\n",
       "      <th>Cholesterol</th>\n",
       "      <th>Na_to_K</th>\n",
       "      <th>Drug</th>\n",
       "    </tr>\n",
       "  </thead>\n",
       "  <tbody>\n",
       "    <tr>\n",
       "      <th>0</th>\n",
       "      <td>23</td>\n",
       "      <td>F</td>\n",
       "      <td>HIGH</td>\n",
       "      <td>HIGH</td>\n",
       "      <td>25.355</td>\n",
       "      <td>drugY</td>\n",
       "    </tr>\n",
       "    <tr>\n",
       "      <th>1</th>\n",
       "      <td>47</td>\n",
       "      <td>M</td>\n",
       "      <td>LOW</td>\n",
       "      <td>HIGH</td>\n",
       "      <td>13.093</td>\n",
       "      <td>drugC</td>\n",
       "    </tr>\n",
       "    <tr>\n",
       "      <th>2</th>\n",
       "      <td>47</td>\n",
       "      <td>M</td>\n",
       "      <td>LOW</td>\n",
       "      <td>HIGH</td>\n",
       "      <td>10.114</td>\n",
       "      <td>drugC</td>\n",
       "    </tr>\n",
       "    <tr>\n",
       "      <th>3</th>\n",
       "      <td>28</td>\n",
       "      <td>F</td>\n",
       "      <td>NORMAL</td>\n",
       "      <td>HIGH</td>\n",
       "      <td>7.798</td>\n",
       "      <td>drugX</td>\n",
       "    </tr>\n",
       "    <tr>\n",
       "      <th>4</th>\n",
       "      <td>61</td>\n",
       "      <td>F</td>\n",
       "      <td>LOW</td>\n",
       "      <td>HIGH</td>\n",
       "      <td>18.043</td>\n",
       "      <td>drugY</td>\n",
       "    </tr>\n",
       "    <tr>\n",
       "      <th>...</th>\n",
       "      <td>...</td>\n",
       "      <td>...</td>\n",
       "      <td>...</td>\n",
       "      <td>...</td>\n",
       "      <td>...</td>\n",
       "      <td>...</td>\n",
       "    </tr>\n",
       "    <tr>\n",
       "      <th>195</th>\n",
       "      <td>56</td>\n",
       "      <td>F</td>\n",
       "      <td>LOW</td>\n",
       "      <td>HIGH</td>\n",
       "      <td>11.567</td>\n",
       "      <td>drugC</td>\n",
       "    </tr>\n",
       "    <tr>\n",
       "      <th>196</th>\n",
       "      <td>16</td>\n",
       "      <td>M</td>\n",
       "      <td>LOW</td>\n",
       "      <td>HIGH</td>\n",
       "      <td>12.006</td>\n",
       "      <td>drugC</td>\n",
       "    </tr>\n",
       "    <tr>\n",
       "      <th>197</th>\n",
       "      <td>52</td>\n",
       "      <td>M</td>\n",
       "      <td>NORMAL</td>\n",
       "      <td>HIGH</td>\n",
       "      <td>9.894</td>\n",
       "      <td>drugX</td>\n",
       "    </tr>\n",
       "    <tr>\n",
       "      <th>198</th>\n",
       "      <td>23</td>\n",
       "      <td>M</td>\n",
       "      <td>NORMAL</td>\n",
       "      <td>NORMAL</td>\n",
       "      <td>14.020</td>\n",
       "      <td>drugX</td>\n",
       "    </tr>\n",
       "    <tr>\n",
       "      <th>199</th>\n",
       "      <td>40</td>\n",
       "      <td>F</td>\n",
       "      <td>LOW</td>\n",
       "      <td>NORMAL</td>\n",
       "      <td>11.349</td>\n",
       "      <td>drugX</td>\n",
       "    </tr>\n",
       "  </tbody>\n",
       "</table>\n",
       "<p>200 rows × 6 columns</p>\n",
       "</div>"
      ],
      "text/plain": [
       "     Age Sex      BP Cholesterol  Na_to_K   Drug\n",
       "0     23   F    HIGH        HIGH   25.355  drugY\n",
       "1     47   M     LOW        HIGH   13.093  drugC\n",
       "2     47   M     LOW        HIGH   10.114  drugC\n",
       "3     28   F  NORMAL        HIGH    7.798  drugX\n",
       "4     61   F     LOW        HIGH   18.043  drugY\n",
       "..   ...  ..     ...         ...      ...    ...\n",
       "195   56   F     LOW        HIGH   11.567  drugC\n",
       "196   16   M     LOW        HIGH   12.006  drugC\n",
       "197   52   M  NORMAL        HIGH    9.894  drugX\n",
       "198   23   M  NORMAL      NORMAL   14.020  drugX\n",
       "199   40   F     LOW      NORMAL   11.349  drugX\n",
       "\n",
       "[200 rows x 6 columns]"
      ]
     },
     "execution_count": 3,
     "metadata": {},
     "output_type": "execute_result"
    }
   ],
   "source": [
    "path= \"drug_class.csv\"\n",
    "my_data = pd.read_csv(path)\n",
    "my_data"
   ]
  },
  {
   "cell_type": "markdown",
   "id": "f3599a60-83ab-4376-85ff-fabff6792d98",
   "metadata": {},
   "source": [
    "## Data Analysis and pre-processing\n",
    "You should apply some basic analytics steps to understand the data better. First, let us gather some basic information about the dataset. \n"
   ]
  },
  {
   "cell_type": "code",
   "execution_count": 4,
   "id": "7801d795-e34d-4a36-a593-dde831f187ea",
   "metadata": {},
   "outputs": [
    {
     "name": "stdout",
     "output_type": "stream",
     "text": [
      "<class 'pandas.core.frame.DataFrame'>\n",
      "RangeIndex: 200 entries, 0 to 199\n",
      "Data columns (total 6 columns):\n",
      " #   Column       Non-Null Count  Dtype  \n",
      "---  ------       --------------  -----  \n",
      " 0   Age          200 non-null    int64  \n",
      " 1   Sex          200 non-null    object \n",
      " 2   BP           200 non-null    object \n",
      " 3   Cholesterol  200 non-null    object \n",
      " 4   Na_to_K      200 non-null    float64\n",
      " 5   Drug         200 non-null    object \n",
      "dtypes: float64(1), int64(1), object(4)\n",
      "memory usage: 9.5+ KB\n"
     ]
    }
   ],
   "source": [
    "my_data.info()"
   ]
  },
  {
   "cell_type": "markdown",
   "id": "192800f3-52ec-428e-a40b-561ba8d2f2b1",
   "metadata": {},
   "source": [
    "This tells us that 4 out of the 6 features of this dataset are categorical, which will have to be converted into numerical ones to be used for modeling. For this, we can make use of __LabelEncoder__ from the Scikit-Learn library.\n"
   ]
  },
  {
   "cell_type": "code",
   "execution_count": 6,
   "id": "27539ee5-3a9a-4fa3-a65a-4f510767324a",
   "metadata": {},
   "outputs": [
    {
     "data": {
      "application/vnd.microsoft.datawrangler.viewer.v0+json": {
       "columns": [
        {
         "name": "index",
         "rawType": "int64",
         "type": "integer"
        },
        {
         "name": "Age",
         "rawType": "int64",
         "type": "integer"
        },
        {
         "name": "Sex",
         "rawType": "int64",
         "type": "integer"
        },
        {
         "name": "BP",
         "rawType": "int64",
         "type": "integer"
        },
        {
         "name": "Cholesterol",
         "rawType": "int64",
         "type": "integer"
        },
        {
         "name": "Na_to_K",
         "rawType": "float64",
         "type": "float"
        },
        {
         "name": "Drug",
         "rawType": "object",
         "type": "string"
        }
       ],
       "ref": "a55aa749-f46a-47c2-9091-5a538b1f928c",
       "rows": [
        [
         "0",
         "23",
         "0",
         "0",
         "0",
         "25.355",
         "drugY"
        ],
        [
         "1",
         "47",
         "1",
         "1",
         "0",
         "13.093",
         "drugC"
        ],
        [
         "2",
         "47",
         "1",
         "1",
         "0",
         "10.114",
         "drugC"
        ],
        [
         "3",
         "28",
         "0",
         "2",
         "0",
         "7.798",
         "drugX"
        ],
        [
         "4",
         "61",
         "0",
         "1",
         "0",
         "18.043",
         "drugY"
        ],
        [
         "5",
         "22",
         "0",
         "2",
         "0",
         "8.607",
         "drugX"
        ],
        [
         "6",
         "49",
         "0",
         "2",
         "0",
         "16.275",
         "drugY"
        ],
        [
         "7",
         "41",
         "1",
         "1",
         "0",
         "11.037",
         "drugC"
        ],
        [
         "8",
         "60",
         "1",
         "2",
         "0",
         "15.171",
         "drugY"
        ],
        [
         "9",
         "43",
         "1",
         "1",
         "1",
         "19.368",
         "drugY"
        ],
        [
         "10",
         "47",
         "0",
         "1",
         "0",
         "11.767",
         "drugC"
        ],
        [
         "11",
         "34",
         "0",
         "0",
         "1",
         "19.199",
         "drugY"
        ],
        [
         "12",
         "43",
         "1",
         "1",
         "0",
         "15.376",
         "drugY"
        ],
        [
         "13",
         "74",
         "0",
         "1",
         "0",
         "20.942",
         "drugY"
        ],
        [
         "14",
         "50",
         "0",
         "2",
         "0",
         "12.703",
         "drugX"
        ],
        [
         "15",
         "16",
         "0",
         "0",
         "1",
         "15.516",
         "drugY"
        ],
        [
         "16",
         "69",
         "1",
         "1",
         "1",
         "11.455",
         "drugX"
        ],
        [
         "17",
         "43",
         "1",
         "0",
         "0",
         "13.972",
         "drugA"
        ],
        [
         "18",
         "23",
         "1",
         "1",
         "0",
         "7.298",
         "drugC"
        ],
        [
         "19",
         "32",
         "0",
         "0",
         "1",
         "25.974",
         "drugY"
        ],
        [
         "20",
         "57",
         "1",
         "1",
         "1",
         "19.128",
         "drugY"
        ],
        [
         "21",
         "63",
         "1",
         "2",
         "0",
         "25.917",
         "drugY"
        ],
        [
         "22",
         "47",
         "1",
         "1",
         "1",
         "30.568",
         "drugY"
        ],
        [
         "23",
         "48",
         "0",
         "1",
         "0",
         "15.036",
         "drugY"
        ],
        [
         "24",
         "33",
         "0",
         "1",
         "0",
         "33.486",
         "drugY"
        ],
        [
         "25",
         "28",
         "0",
         "0",
         "1",
         "18.809",
         "drugY"
        ],
        [
         "26",
         "31",
         "1",
         "0",
         "0",
         "30.366",
         "drugY"
        ],
        [
         "27",
         "49",
         "0",
         "2",
         "1",
         "9.381",
         "drugX"
        ],
        [
         "28",
         "39",
         "0",
         "1",
         "1",
         "22.697",
         "drugY"
        ],
        [
         "29",
         "45",
         "1",
         "1",
         "0",
         "17.951",
         "drugY"
        ],
        [
         "30",
         "18",
         "0",
         "2",
         "1",
         "8.75",
         "drugX"
        ],
        [
         "31",
         "74",
         "1",
         "0",
         "0",
         "9.567",
         "drugB"
        ],
        [
         "32",
         "49",
         "1",
         "1",
         "1",
         "11.014",
         "drugX"
        ],
        [
         "33",
         "65",
         "0",
         "0",
         "1",
         "31.876",
         "drugY"
        ],
        [
         "34",
         "53",
         "1",
         "2",
         "0",
         "14.133",
         "drugX"
        ],
        [
         "35",
         "46",
         "1",
         "2",
         "1",
         "7.285",
         "drugX"
        ],
        [
         "36",
         "32",
         "1",
         "0",
         "1",
         "9.445",
         "drugA"
        ],
        [
         "37",
         "39",
         "1",
         "1",
         "1",
         "13.938",
         "drugX"
        ],
        [
         "38",
         "39",
         "0",
         "2",
         "1",
         "9.709",
         "drugX"
        ],
        [
         "39",
         "15",
         "1",
         "2",
         "0",
         "9.084",
         "drugX"
        ],
        [
         "40",
         "73",
         "0",
         "2",
         "0",
         "19.221",
         "drugY"
        ],
        [
         "41",
         "58",
         "0",
         "0",
         "1",
         "14.239",
         "drugB"
        ],
        [
         "42",
         "50",
         "1",
         "2",
         "1",
         "15.79",
         "drugY"
        ],
        [
         "43",
         "23",
         "1",
         "2",
         "0",
         "12.26",
         "drugX"
        ],
        [
         "44",
         "50",
         "0",
         "2",
         "1",
         "12.295",
         "drugX"
        ],
        [
         "45",
         "66",
         "0",
         "2",
         "1",
         "8.107",
         "drugX"
        ],
        [
         "46",
         "37",
         "0",
         "0",
         "0",
         "13.091",
         "drugA"
        ],
        [
         "47",
         "68",
         "1",
         "1",
         "0",
         "10.291",
         "drugC"
        ],
        [
         "48",
         "23",
         "1",
         "2",
         "0",
         "31.686",
         "drugY"
        ],
        [
         "49",
         "28",
         "0",
         "1",
         "0",
         "19.796",
         "drugY"
        ]
       ],
       "shape": {
        "columns": 6,
        "rows": 200
       }
      },
      "text/html": [
       "<div>\n",
       "<style scoped>\n",
       "    .dataframe tbody tr th:only-of-type {\n",
       "        vertical-align: middle;\n",
       "    }\n",
       "\n",
       "    .dataframe tbody tr th {\n",
       "        vertical-align: top;\n",
       "    }\n",
       "\n",
       "    .dataframe thead th {\n",
       "        text-align: right;\n",
       "    }\n",
       "</style>\n",
       "<table border=\"1\" class=\"dataframe\">\n",
       "  <thead>\n",
       "    <tr style=\"text-align: right;\">\n",
       "      <th></th>\n",
       "      <th>Age</th>\n",
       "      <th>Sex</th>\n",
       "      <th>BP</th>\n",
       "      <th>Cholesterol</th>\n",
       "      <th>Na_to_K</th>\n",
       "      <th>Drug</th>\n",
       "    </tr>\n",
       "  </thead>\n",
       "  <tbody>\n",
       "    <tr>\n",
       "      <th>0</th>\n",
       "      <td>23</td>\n",
       "      <td>0</td>\n",
       "      <td>0</td>\n",
       "      <td>0</td>\n",
       "      <td>25.355</td>\n",
       "      <td>drugY</td>\n",
       "    </tr>\n",
       "    <tr>\n",
       "      <th>1</th>\n",
       "      <td>47</td>\n",
       "      <td>1</td>\n",
       "      <td>1</td>\n",
       "      <td>0</td>\n",
       "      <td>13.093</td>\n",
       "      <td>drugC</td>\n",
       "    </tr>\n",
       "    <tr>\n",
       "      <th>2</th>\n",
       "      <td>47</td>\n",
       "      <td>1</td>\n",
       "      <td>1</td>\n",
       "      <td>0</td>\n",
       "      <td>10.114</td>\n",
       "      <td>drugC</td>\n",
       "    </tr>\n",
       "    <tr>\n",
       "      <th>3</th>\n",
       "      <td>28</td>\n",
       "      <td>0</td>\n",
       "      <td>2</td>\n",
       "      <td>0</td>\n",
       "      <td>7.798</td>\n",
       "      <td>drugX</td>\n",
       "    </tr>\n",
       "    <tr>\n",
       "      <th>4</th>\n",
       "      <td>61</td>\n",
       "      <td>0</td>\n",
       "      <td>1</td>\n",
       "      <td>0</td>\n",
       "      <td>18.043</td>\n",
       "      <td>drugY</td>\n",
       "    </tr>\n",
       "    <tr>\n",
       "      <th>...</th>\n",
       "      <td>...</td>\n",
       "      <td>...</td>\n",
       "      <td>...</td>\n",
       "      <td>...</td>\n",
       "      <td>...</td>\n",
       "      <td>...</td>\n",
       "    </tr>\n",
       "    <tr>\n",
       "      <th>195</th>\n",
       "      <td>56</td>\n",
       "      <td>0</td>\n",
       "      <td>1</td>\n",
       "      <td>0</td>\n",
       "      <td>11.567</td>\n",
       "      <td>drugC</td>\n",
       "    </tr>\n",
       "    <tr>\n",
       "      <th>196</th>\n",
       "      <td>16</td>\n",
       "      <td>1</td>\n",
       "      <td>1</td>\n",
       "      <td>0</td>\n",
       "      <td>12.006</td>\n",
       "      <td>drugC</td>\n",
       "    </tr>\n",
       "    <tr>\n",
       "      <th>197</th>\n",
       "      <td>52</td>\n",
       "      <td>1</td>\n",
       "      <td>2</td>\n",
       "      <td>0</td>\n",
       "      <td>9.894</td>\n",
       "      <td>drugX</td>\n",
       "    </tr>\n",
       "    <tr>\n",
       "      <th>198</th>\n",
       "      <td>23</td>\n",
       "      <td>1</td>\n",
       "      <td>2</td>\n",
       "      <td>1</td>\n",
       "      <td>14.020</td>\n",
       "      <td>drugX</td>\n",
       "    </tr>\n",
       "    <tr>\n",
       "      <th>199</th>\n",
       "      <td>40</td>\n",
       "      <td>0</td>\n",
       "      <td>1</td>\n",
       "      <td>1</td>\n",
       "      <td>11.349</td>\n",
       "      <td>drugX</td>\n",
       "    </tr>\n",
       "  </tbody>\n",
       "</table>\n",
       "<p>200 rows × 6 columns</p>\n",
       "</div>"
      ],
      "text/plain": [
       "     Age  Sex  BP  Cholesterol  Na_to_K   Drug\n",
       "0     23    0   0            0   25.355  drugY\n",
       "1     47    1   1            0   13.093  drugC\n",
       "2     47    1   1            0   10.114  drugC\n",
       "3     28    0   2            0    7.798  drugX\n",
       "4     61    0   1            0   18.043  drugY\n",
       "..   ...  ...  ..          ...      ...    ...\n",
       "195   56    0   1            0   11.567  drugC\n",
       "196   16    1   1            0   12.006  drugC\n",
       "197   52    1   2            0    9.894  drugX\n",
       "198   23    1   2            1   14.020  drugX\n",
       "199   40    0   1            1   11.349  drugX\n",
       "\n",
       "[200 rows x 6 columns]"
      ]
     },
     "execution_count": 6,
     "metadata": {},
     "output_type": "execute_result"
    }
   ],
   "source": [
    "label_encoder = LabelEncoder()\n",
    "my_data['Sex'] = label_encoder.fit_transform(my_data['Sex']) \n",
    "my_data['BP'] = label_encoder.fit_transform(my_data['BP'])\n",
    "my_data['Cholesterol'] = label_encoder.fit_transform(my_data['Cholesterol']) \n",
    "my_data"
   ]
  },
  {
   "cell_type": "markdown",
   "id": "153435d8-ea0c-42b5-a55c-1902834c50a5",
   "metadata": {},
   "source": [
    "With this, you now have 5 parameters that can be used for modeling and 1 feature as the target variable. \n",
    "We can see from comparison of the data before Label encoding and after it, to note the following mapping.\n",
    "<br>\n",
    "For parameter 'Sex' : $M \\rightarrow 1, F \\rightarrow 0$ <br>\n",
    "For parameter 'BP' : $High \\rightarrow 0, Low \\rightarrow 1, Normal \\rightarrow 2$<br>\n",
    "For parameter 'Cholesterol' : $High \\rightarrow 0, Normal \\rightarrow 1$\n"
   ]
  },
  {
   "cell_type": "markdown",
   "id": "52116f77-3952-42cd-b877-a095a31e25a9",
   "metadata": {},
   "source": [
    "You can also check if there are any missing values in the dataset. \n"
   ]
  },
  {
   "cell_type": "code",
   "execution_count": 7,
   "id": "68a90c35-b05e-4335-86eb-96e8931b8e9c",
   "metadata": {},
   "outputs": [
    {
     "data": {
      "application/vnd.microsoft.datawrangler.viewer.v0+json": {
       "columns": [
        {
         "name": "index",
         "rawType": "object",
         "type": "string"
        },
        {
         "name": "0",
         "rawType": "int64",
         "type": "integer"
        }
       ],
       "ref": "37878a88-2c50-44ca-9a00-a61f1b0df5af",
       "rows": [
        [
         "Age",
         "0"
        ],
        [
         "Sex",
         "0"
        ],
        [
         "BP",
         "0"
        ],
        [
         "Cholesterol",
         "0"
        ],
        [
         "Na_to_K",
         "0"
        ],
        [
         "Drug",
         "0"
        ]
       ],
       "shape": {
        "columns": 1,
        "rows": 6
       }
      },
      "text/plain": [
       "Age            0\n",
       "Sex            0\n",
       "BP             0\n",
       "Cholesterol    0\n",
       "Na_to_K        0\n",
       "Drug           0\n",
       "dtype: int64"
      ]
     },
     "execution_count": 7,
     "metadata": {},
     "output_type": "execute_result"
    }
   ],
   "source": [
    "my_data.isnull().sum()"
   ]
  },
  {
   "cell_type": "markdown",
   "id": "1d03344a-b504-443f-9be5-fddab93d8aa6",
   "metadata": {},
   "source": [
    "This tells us that there are no missing values in any of the fields.\n"
   ]
  },
  {
   "cell_type": "markdown",
   "id": "33bcce6a-f524-44aa-96f0-47c8b2afa051",
   "metadata": {},
   "source": [
    "To evaluate the correlation of the target variable with the input features, it will be convenient to map the different drugs to a numerical value. Execute the following cell to achieve the same.\n"
   ]
  },
  {
   "cell_type": "code",
   "execution_count": 10,
   "id": "b813ebca-0c2a-46ea-85d6-ce1eac98286c",
   "metadata": {},
   "outputs": [
    {
     "data": {
      "application/vnd.microsoft.datawrangler.viewer.v0+json": {
       "columns": [
        {
         "name": "index",
         "rawType": "int64",
         "type": "integer"
        },
        {
         "name": "Age",
         "rawType": "int64",
         "type": "integer"
        },
        {
         "name": "Sex",
         "rawType": "int64",
         "type": "integer"
        },
        {
         "name": "BP",
         "rawType": "int64",
         "type": "integer"
        },
        {
         "name": "Cholesterol",
         "rawType": "int64",
         "type": "integer"
        },
        {
         "name": "Na_to_K",
         "rawType": "float64",
         "type": "float"
        },
        {
         "name": "Drug",
         "rawType": "object",
         "type": "string"
        },
        {
         "name": "Drug_num",
         "rawType": "int64",
         "type": "integer"
        }
       ],
       "ref": "d29157b2-d394-4e56-9cd5-92dec12ef32d",
       "rows": [
        [
         "0",
         "23",
         "0",
         "0",
         "0",
         "25.355",
         "drugY",
         "4"
        ],
        [
         "1",
         "47",
         "1",
         "1",
         "0",
         "13.093",
         "drugC",
         "2"
        ],
        [
         "2",
         "47",
         "1",
         "1",
         "0",
         "10.114",
         "drugC",
         "2"
        ],
        [
         "3",
         "28",
         "0",
         "2",
         "0",
         "7.798",
         "drugX",
         "3"
        ],
        [
         "4",
         "61",
         "0",
         "1",
         "0",
         "18.043",
         "drugY",
         "4"
        ],
        [
         "5",
         "22",
         "0",
         "2",
         "0",
         "8.607",
         "drugX",
         "3"
        ],
        [
         "6",
         "49",
         "0",
         "2",
         "0",
         "16.275",
         "drugY",
         "4"
        ],
        [
         "7",
         "41",
         "1",
         "1",
         "0",
         "11.037",
         "drugC",
         "2"
        ],
        [
         "8",
         "60",
         "1",
         "2",
         "0",
         "15.171",
         "drugY",
         "4"
        ],
        [
         "9",
         "43",
         "1",
         "1",
         "1",
         "19.368",
         "drugY",
         "4"
        ],
        [
         "10",
         "47",
         "0",
         "1",
         "0",
         "11.767",
         "drugC",
         "2"
        ],
        [
         "11",
         "34",
         "0",
         "0",
         "1",
         "19.199",
         "drugY",
         "4"
        ],
        [
         "12",
         "43",
         "1",
         "1",
         "0",
         "15.376",
         "drugY",
         "4"
        ],
        [
         "13",
         "74",
         "0",
         "1",
         "0",
         "20.942",
         "drugY",
         "4"
        ],
        [
         "14",
         "50",
         "0",
         "2",
         "0",
         "12.703",
         "drugX",
         "3"
        ],
        [
         "15",
         "16",
         "0",
         "0",
         "1",
         "15.516",
         "drugY",
         "4"
        ],
        [
         "16",
         "69",
         "1",
         "1",
         "1",
         "11.455",
         "drugX",
         "3"
        ],
        [
         "17",
         "43",
         "1",
         "0",
         "0",
         "13.972",
         "drugA",
         "0"
        ],
        [
         "18",
         "23",
         "1",
         "1",
         "0",
         "7.298",
         "drugC",
         "2"
        ],
        [
         "19",
         "32",
         "0",
         "0",
         "1",
         "25.974",
         "drugY",
         "4"
        ],
        [
         "20",
         "57",
         "1",
         "1",
         "1",
         "19.128",
         "drugY",
         "4"
        ],
        [
         "21",
         "63",
         "1",
         "2",
         "0",
         "25.917",
         "drugY",
         "4"
        ],
        [
         "22",
         "47",
         "1",
         "1",
         "1",
         "30.568",
         "drugY",
         "4"
        ],
        [
         "23",
         "48",
         "0",
         "1",
         "0",
         "15.036",
         "drugY",
         "4"
        ],
        [
         "24",
         "33",
         "0",
         "1",
         "0",
         "33.486",
         "drugY",
         "4"
        ],
        [
         "25",
         "28",
         "0",
         "0",
         "1",
         "18.809",
         "drugY",
         "4"
        ],
        [
         "26",
         "31",
         "1",
         "0",
         "0",
         "30.366",
         "drugY",
         "4"
        ],
        [
         "27",
         "49",
         "0",
         "2",
         "1",
         "9.381",
         "drugX",
         "3"
        ],
        [
         "28",
         "39",
         "0",
         "1",
         "1",
         "22.697",
         "drugY",
         "4"
        ],
        [
         "29",
         "45",
         "1",
         "1",
         "0",
         "17.951",
         "drugY",
         "4"
        ],
        [
         "30",
         "18",
         "0",
         "2",
         "1",
         "8.75",
         "drugX",
         "3"
        ],
        [
         "31",
         "74",
         "1",
         "0",
         "0",
         "9.567",
         "drugB",
         "1"
        ],
        [
         "32",
         "49",
         "1",
         "1",
         "1",
         "11.014",
         "drugX",
         "3"
        ],
        [
         "33",
         "65",
         "0",
         "0",
         "1",
         "31.876",
         "drugY",
         "4"
        ],
        [
         "34",
         "53",
         "1",
         "2",
         "0",
         "14.133",
         "drugX",
         "3"
        ],
        [
         "35",
         "46",
         "1",
         "2",
         "1",
         "7.285",
         "drugX",
         "3"
        ],
        [
         "36",
         "32",
         "1",
         "0",
         "1",
         "9.445",
         "drugA",
         "0"
        ],
        [
         "37",
         "39",
         "1",
         "1",
         "1",
         "13.938",
         "drugX",
         "3"
        ],
        [
         "38",
         "39",
         "0",
         "2",
         "1",
         "9.709",
         "drugX",
         "3"
        ],
        [
         "39",
         "15",
         "1",
         "2",
         "0",
         "9.084",
         "drugX",
         "3"
        ],
        [
         "40",
         "73",
         "0",
         "2",
         "0",
         "19.221",
         "drugY",
         "4"
        ],
        [
         "41",
         "58",
         "0",
         "0",
         "1",
         "14.239",
         "drugB",
         "1"
        ],
        [
         "42",
         "50",
         "1",
         "2",
         "1",
         "15.79",
         "drugY",
         "4"
        ],
        [
         "43",
         "23",
         "1",
         "2",
         "0",
         "12.26",
         "drugX",
         "3"
        ],
        [
         "44",
         "50",
         "0",
         "2",
         "1",
         "12.295",
         "drugX",
         "3"
        ],
        [
         "45",
         "66",
         "0",
         "2",
         "1",
         "8.107",
         "drugX",
         "3"
        ],
        [
         "46",
         "37",
         "0",
         "0",
         "0",
         "13.091",
         "drugA",
         "0"
        ],
        [
         "47",
         "68",
         "1",
         "1",
         "0",
         "10.291",
         "drugC",
         "2"
        ],
        [
         "48",
         "23",
         "1",
         "2",
         "0",
         "31.686",
         "drugY",
         "4"
        ],
        [
         "49",
         "28",
         "0",
         "1",
         "0",
         "19.796",
         "drugY",
         "4"
        ]
       ],
       "shape": {
        "columns": 7,
        "rows": 200
       }
      },
      "text/html": [
       "<div>\n",
       "<style scoped>\n",
       "    .dataframe tbody tr th:only-of-type {\n",
       "        vertical-align: middle;\n",
       "    }\n",
       "\n",
       "    .dataframe tbody tr th {\n",
       "        vertical-align: top;\n",
       "    }\n",
       "\n",
       "    .dataframe thead th {\n",
       "        text-align: right;\n",
       "    }\n",
       "</style>\n",
       "<table border=\"1\" class=\"dataframe\">\n",
       "  <thead>\n",
       "    <tr style=\"text-align: right;\">\n",
       "      <th></th>\n",
       "      <th>Age</th>\n",
       "      <th>Sex</th>\n",
       "      <th>BP</th>\n",
       "      <th>Cholesterol</th>\n",
       "      <th>Na_to_K</th>\n",
       "      <th>Drug</th>\n",
       "      <th>Drug_num</th>\n",
       "    </tr>\n",
       "  </thead>\n",
       "  <tbody>\n",
       "    <tr>\n",
       "      <th>0</th>\n",
       "      <td>23</td>\n",
       "      <td>0</td>\n",
       "      <td>0</td>\n",
       "      <td>0</td>\n",
       "      <td>25.355</td>\n",
       "      <td>drugY</td>\n",
       "      <td>4</td>\n",
       "    </tr>\n",
       "    <tr>\n",
       "      <th>1</th>\n",
       "      <td>47</td>\n",
       "      <td>1</td>\n",
       "      <td>1</td>\n",
       "      <td>0</td>\n",
       "      <td>13.093</td>\n",
       "      <td>drugC</td>\n",
       "      <td>2</td>\n",
       "    </tr>\n",
       "    <tr>\n",
       "      <th>2</th>\n",
       "      <td>47</td>\n",
       "      <td>1</td>\n",
       "      <td>1</td>\n",
       "      <td>0</td>\n",
       "      <td>10.114</td>\n",
       "      <td>drugC</td>\n",
       "      <td>2</td>\n",
       "    </tr>\n",
       "    <tr>\n",
       "      <th>3</th>\n",
       "      <td>28</td>\n",
       "      <td>0</td>\n",
       "      <td>2</td>\n",
       "      <td>0</td>\n",
       "      <td>7.798</td>\n",
       "      <td>drugX</td>\n",
       "      <td>3</td>\n",
       "    </tr>\n",
       "    <tr>\n",
       "      <th>4</th>\n",
       "      <td>61</td>\n",
       "      <td>0</td>\n",
       "      <td>1</td>\n",
       "      <td>0</td>\n",
       "      <td>18.043</td>\n",
       "      <td>drugY</td>\n",
       "      <td>4</td>\n",
       "    </tr>\n",
       "    <tr>\n",
       "      <th>...</th>\n",
       "      <td>...</td>\n",
       "      <td>...</td>\n",
       "      <td>...</td>\n",
       "      <td>...</td>\n",
       "      <td>...</td>\n",
       "      <td>...</td>\n",
       "      <td>...</td>\n",
       "    </tr>\n",
       "    <tr>\n",
       "      <th>195</th>\n",
       "      <td>56</td>\n",
       "      <td>0</td>\n",
       "      <td>1</td>\n",
       "      <td>0</td>\n",
       "      <td>11.567</td>\n",
       "      <td>drugC</td>\n",
       "      <td>2</td>\n",
       "    </tr>\n",
       "    <tr>\n",
       "      <th>196</th>\n",
       "      <td>16</td>\n",
       "      <td>1</td>\n",
       "      <td>1</td>\n",
       "      <td>0</td>\n",
       "      <td>12.006</td>\n",
       "      <td>drugC</td>\n",
       "      <td>2</td>\n",
       "    </tr>\n",
       "    <tr>\n",
       "      <th>197</th>\n",
       "      <td>52</td>\n",
       "      <td>1</td>\n",
       "      <td>2</td>\n",
       "      <td>0</td>\n",
       "      <td>9.894</td>\n",
       "      <td>drugX</td>\n",
       "      <td>3</td>\n",
       "    </tr>\n",
       "    <tr>\n",
       "      <th>198</th>\n",
       "      <td>23</td>\n",
       "      <td>1</td>\n",
       "      <td>2</td>\n",
       "      <td>1</td>\n",
       "      <td>14.020</td>\n",
       "      <td>drugX</td>\n",
       "      <td>3</td>\n",
       "    </tr>\n",
       "    <tr>\n",
       "      <th>199</th>\n",
       "      <td>40</td>\n",
       "      <td>0</td>\n",
       "      <td>1</td>\n",
       "      <td>1</td>\n",
       "      <td>11.349</td>\n",
       "      <td>drugX</td>\n",
       "      <td>3</td>\n",
       "    </tr>\n",
       "  </tbody>\n",
       "</table>\n",
       "<p>200 rows × 7 columns</p>\n",
       "</div>"
      ],
      "text/plain": [
       "     Age  Sex  BP  Cholesterol  Na_to_K   Drug  Drug_num\n",
       "0     23    0   0            0   25.355  drugY         4\n",
       "1     47    1   1            0   13.093  drugC         2\n",
       "2     47    1   1            0   10.114  drugC         2\n",
       "3     28    0   2            0    7.798  drugX         3\n",
       "4     61    0   1            0   18.043  drugY         4\n",
       "..   ...  ...  ..          ...      ...    ...       ...\n",
       "195   56    0   1            0   11.567  drugC         2\n",
       "196   16    1   1            0   12.006  drugC         2\n",
       "197   52    1   2            0    9.894  drugX         3\n",
       "198   23    1   2            1   14.020  drugX         3\n",
       "199   40    0   1            1   11.349  drugX         3\n",
       "\n",
       "[200 rows x 7 columns]"
      ]
     },
     "execution_count": 10,
     "metadata": {},
     "output_type": "execute_result"
    }
   ],
   "source": [
    "custom_map = {'drugA':0,'drugB':1,'drugC':2,'drugX':3,'drugY':4}\n",
    "my_data['Drug_num'] = my_data['Drug'].map(custom_map)\n",
    "my_data"
   ]
  },
  {
   "cell_type": "markdown",
   "id": "faaccd47-4b02-42dd-ae69-42ba73b28465",
   "metadata": {},
   "source": [
    "You can now use the __corr()__ function to find the correlation of the input variables with the target variable.\n",
    "\n",
    "#### Practice question\n",
    "Write the code to find the correlation of the input variables with the target variable and identify the features most significantly affecting the target.\n"
   ]
  },
  {
   "cell_type": "code",
   "execution_count": 21,
   "id": "bd0fd5a1-8db7-4f04-931b-5bf04bd71d4c",
   "metadata": {},
   "outputs": [
    {
     "data": {
      "application/vnd.microsoft.datawrangler.viewer.v0+json": {
       "columns": [
        {
         "name": "index",
         "rawType": "object",
         "type": "string"
        },
        {
         "name": "Drug_num",
         "rawType": "float64",
         "type": "float"
        }
       ],
       "ref": "68fba47e-9dec-4559-b90c-d910af0a144c",
       "rows": [
        [
         "Age",
         "-0.004828195721243009"
        ],
        [
         "Sex",
         "-0.09857280704984359"
        ],
        [
         "BP",
         "0.37286795607797363"
        ],
        [
         "Cholesterol",
         "0.05562880047671424"
        ],
        [
         "Na_to_K",
         "0.5891198660590573"
        ],
        [
         "Drug_num",
         "1.0"
        ]
       ],
       "shape": {
        "columns": 1,
        "rows": 6
       }
      },
      "text/plain": [
       "Age           -0.004828\n",
       "Sex           -0.098573\n",
       "BP             0.372868\n",
       "Cholesterol    0.055629\n",
       "Na_to_K        0.589120\n",
       "Drug_num       1.000000\n",
       "Name: Drug_num, dtype: float64"
      ]
     },
     "execution_count": 21,
     "metadata": {},
     "output_type": "execute_result"
    }
   ],
   "source": [
    "my_data.drop('Drug',axis=1).corr()['Drug_num']"
   ]
  },
  {
   "cell_type": "code",
   "execution_count": 26,
   "metadata": {},
   "outputs": [
    {
     "name": "stdout",
     "output_type": "stream",
     "text": [
      "<class 'pandas.core.frame.DataFrame'>\n",
      "RangeIndex: 200 entries, 0 to 199\n",
      "Data columns (total 7 columns):\n",
      " #   Column       Non-Null Count  Dtype  \n",
      "---  ------       --------------  -----  \n",
      " 0   Age          200 non-null    int64  \n",
      " 1   Sex          200 non-null    int64  \n",
      " 2   BP           200 non-null    int64  \n",
      " 3   Cholesterol  200 non-null    int64  \n",
      " 4   Na_to_K      200 non-null    float64\n",
      " 5   Drug         200 non-null    object \n",
      " 6   Drug_num     200 non-null    int64  \n",
      "dtypes: float64(1), int64(5), object(1)\n",
      "memory usage: 11.1+ KB\n"
     ]
    }
   ],
   "source": [
    "my_data.info()"
   ]
  },
  {
   "cell_type": "markdown",
   "id": "5974bc83-e99c-4cd4-98b4-74fb65cf7f92",
   "metadata": {},
   "source": [
    "We can also understand the distribution of the dataset by plotting the count of the records with each drug recommendation. \n"
   ]
  },
  {
   "cell_type": "code",
   "execution_count": 29,
   "metadata": {},
   "outputs": [
    {
     "data": {
      "application/vnd.microsoft.datawrangler.viewer.v0+json": {
       "columns": [
        {
         "name": "Drug",
         "rawType": "object",
         "type": "string"
        },
        {
         "name": "count",
         "rawType": "int64",
         "type": "integer"
        }
       ],
       "ref": "987e4923-bae9-43cf-8230-7ce50fbe5b6e",
       "rows": [
        [
         "drugY",
         "91"
        ],
        [
         "drugX",
         "54"
        ],
        [
         "drugA",
         "23"
        ],
        [
         "drugC",
         "16"
        ],
        [
         "drugB",
         "16"
        ]
       ],
       "shape": {
        "columns": 1,
        "rows": 5
       }
      },
      "text/plain": [
       "Drug\n",
       "drugY    91\n",
       "drugX    54\n",
       "drugA    23\n",
       "drugC    16\n",
       "drugB    16\n",
       "Name: count, dtype: int64"
      ]
     },
     "execution_count": 29,
     "metadata": {},
     "output_type": "execute_result"
    }
   ],
   "source": [
    "category_counts = my_data['Drug'].value_counts()\n",
    "category_counts"
   ]
  },
  {
   "cell_type": "code",
   "execution_count": 30,
   "id": "f9b7dcc6-7deb-453d-97a7-9eeff8c4587a",
   "metadata": {},
   "outputs": [
    {
     "data": {
      "image/png": "[encoded data removed]",
      "text/plain": [
       "<Figure size 640x480 with 1 Axes>"
      ]
     },
     "metadata": {},
     "output_type": "display_data"
    }
   ],
   "source": [
    "category_counts = my_data['Drug'].value_counts()\n",
    "\n",
    "# Plot the count plot\n",
    "plt.bar(category_counts.index, category_counts.values, color='blue')\n",
    "plt.xlabel('Drug')\n",
    "plt.ylabel('Count')\n",
    "plt.title('Category Distribution')\n",
    "plt.xticks(rotation=45)  # Rotate labels for better readability if needed\n",
    "plt.show()"
   ]
  },
  {
   "cell_type": "markdown",
   "id": "a537ff2f-bd1d-4be6-9eab-c3c887233488",
   "metadata": {},
   "source": [
    "This shows us the distribution of the different classes, clearly indicating that Drug X and Drug Y have many more records in comparison to the other 3.\n"
   ]
  },
  {
   "cell_type": "markdown",
   "id": "f085d2d9-6879-4aa8-b366-2ea3918cd078",
   "metadata": {},
   "source": [
    "## Modeling\n"
   ]
  },
  {
   "cell_type": "markdown",
   "id": "30a7f80a-26d0-42cd-8af2-3fdf9dbf1769",
   "metadata": {},
   "source": [
    "For modeling this dataset with a Decision tree classifier, we first split the dataset into training and testing subsets. For this, we separate the target variable from the input variables.\n"
   ]
  },
  {
   "cell_type": "code",
   "execution_count": 31,
   "id": "ff6936c6-cb62-4241-af6b-0f0c269839d6",
   "metadata": {},
   "outputs": [],
   "source": [
    "y = my_data['Drug']\n",
    "X = my_data.drop(['Drug','Drug_num'], axis=1)"
   ]
  },
  {
   "cell_type": "markdown",
   "id": "ddb6a293-0d12-4104-820b-9ba7709cba8b",
   "metadata": {},
   "source": [
    "Now, use the __train_test_split()__ function to separate the training data from the testing data. We can make use of 30% of the data for testing and the rest for training the Decision tree.\n"
   ]
  },
  {
   "cell_type": "code",
   "execution_count": 35,
   "id": "6e1adf45-12e4-4b82-8af7-bc6e5725d9db",
   "metadata": {},
   "outputs": [],
   "source": [
    "X_trainset, X_testset, y_trainset, y_testset = train_test_split(X, y, test_size=0.3, random_state=32)"
   ]
  },
  {
   "cell_type": "markdown",
   "id": "428d3565-cd26-4b53-ac2f-f0f43e63893c",
   "metadata": {},
   "source": [
    "You can now define the Decision tree classifier as __drugTree__ and train it with the training data. \n"
   ]
  },
  {
   "cell_type": "code",
   "execution_count": 36,
   "id": "a8c5195e-2671-4915-b446-3833234fc651",
   "metadata": {},
   "outputs": [],
   "source": [
    "drugTree = DecisionTreeClassifier(criterion=\"entropy\", max_depth = 4)"
   ]
  },
  {
   "cell_type": "code",
   "execution_count": 37,
   "id": "1a52edfd-c370-416d-86b0-67f0ab9af331",
   "metadata": {},
   "outputs": [
    {
     "data": {
      "text/html": [
       "<style>#sk-container-id-1 {\n",
       "  /* Definition of color scheme common for light and dark mode */\n",
       "  --sklearn-color-text: #000;\n",
       "  --sklearn-color-text-muted: #666;\n",
       "  --sklearn-color-line: gray;\n",
       "  /* Definition of color scheme for unfitted estimators */\n",
       "  --sklearn-color-unfitted-level-0: #fff5e6;\n",
       "  --sklearn-color-unfitted-level-1: #f6e4d2;\n",
       "  --sklearn-color-unfitted-level-2: #ffe0b3;\n",
       "  --sklearn-color-unfitted-level-3: chocolate;\n",
       "  /* Definition of color scheme for fitted estimators */\n",
       "  --sklearn-color-fitted-level-0: #f0f8ff;\n",
       "  --sklearn-color-fitted-level-1: #d4ebff;\n",
       "  --sklearn-color-fitted-level-2: #b3dbfd;\n",
       "  --sklearn-color-fitted-level-3: cornflowerblue;\n",
       "\n",
       "  /* Specific color for light theme */\n",
       "  --sklearn-color-text-on-default-background: var(--sg-text-color, var(--theme-code-foreground, var(--jp-content-font-color1, black)));\n",
       "  --sklearn-color-background: var(--sg-background-color, var(--theme-background, var(--jp-layout-color0, white)));\n",
       "  --sklearn-color-border-box: var(--sg-text-color, var(--theme-code-foreground, var(--jp-content-font-color1, black)));\n",
       "  --sklearn-color-icon: #696969;\n",
       "\n",
       "  @media (prefers-color-scheme: dark) {\n",
       "    /* Redefinition of color scheme for dark theme */\n",
       "    --sklearn-color-text-on-default-background: var(--sg-text-color, var(--theme-code-foreground, var(--jp-content-font-color1, white)));\n",
       "    --sklearn-color-background: var(--sg-background-color, var(--theme-background, var(--jp-layout-color0, #111)));\n",
       "    --sklearn-color-border-box: var(--sg-text-color, var(--theme-code-foreground, var(--jp-content-font-color1, white)));\n",
       "    --sklearn-color-icon: #878787;\n",
       "  }\n",
       "}\n",
       "\n",
       "#sk-container-id-1 {\n",
       "  color: var(--sklearn-color-text);\n",
       "}\n",
       "\n",
       "#sk-container-id-1 pre {\n",
       "  padding: 0;\n",
       "}\n",
       "\n",
       "#sk-container-id-1 input.sk-hidden--visually {\n",
       "  border: 0;\n",
       "  clip: rect(1px 1px 1px 1px);\n",
       "  clip: rect(1px, 1px, 1px, 1px);\n",
       "  height: 1px;\n",
       "  margin: -1px;\n",
       "  overflow: hidden;\n",
       "  padding: 0;\n",
       "  position: absolute;\n",
       "  width: 1px;\n",
       "}\n",
       "\n",
       "#sk-container-id-1 div.sk-dashed-wrapped {\n",
       "  border: 1px dashed var(--sklearn-color-line);\n",
       "  margin: 0 0.4em 0.5em 0.4em;\n",
       "  box-sizing: border-box;\n",
       "  padding-bottom: 0.4em;\n",
       "  background-color: var(--sklearn-color-background);\n",
       "}\n",
       "\n",
       "#sk-container-id-1 div.sk-container {\n",
       "  /* jupyter's `normalize.less` sets `[hidden] { display: none; }`\n",
       "     but bootstrap.min.css set `[hidden] { display: none !important; }`\n",
       "     so we also need the `!important` here to be able to override the\n",
       "     default hidden behavior on the sphinx rendered scikit-learn.org.\n",
       "     See: https://github.com/scikit-learn/scikit-learn/issues/21755 */\n",
       "  display: inline-block !important;\n",
       "  position: relative;\n",
       "}\n",
       "\n",
       "#sk-container-id-1 div.sk-text-repr-fallback {\n",
       "  display: none;\n",
       "}\n",
       "\n",
       "div.sk-parallel-item,\n",
       "div.sk-serial,\n",
       "div.sk-item {\n",
       "  /* draw centered vertical line to link estimators */\n",
       "  background-image: linear-gradient(var(--sklearn-color-text-on-default-background), var(--sklearn-color-text-on-default-background));\n",
       "  background-size: 2px 100%;\n",
       "  background-repeat: no-repeat;\n",
       "  background-position: center center;\n",
       "}\n",
       "\n",
       "/* Parallel-specific style estimator block */\n",
       "\n",
       "#sk-container-id-1 div.sk-parallel-item::after {\n",
       "  content: \"\";\n",
       "  width: 100%;\n",
       "  border-bottom: 2px solid var(--sklearn-color-text-on-default-background);\n",
       "  flex-grow: 1;\n",
       "}\n",
       "\n",
       "#sk-container-id-1 div.sk-parallel {\n",
       "  display: flex;\n",
       "  align-items: stretch;\n",
       "  justify-content: center;\n",
       "  background-color: var(--sklearn-color-background);\n",
       "  position: relative;\n",
       "}\n",
       "\n",
       "#sk-container-id-1 div.sk-parallel-item {\n",
       "  display: flex;\n",
       "  flex-direction: column;\n",
       "}\n",
       "\n",
       "#sk-container-id-1 div.sk-parallel-item:first-child::after {\n",
       "  align-self: flex-end;\n",
       "  width: 50%;\n",
       "}\n",
       "\n",
       "#sk-container-id-1 div.sk-parallel-item:last-child::after {\n",
       "  align-self: flex-start;\n",
       "  width: 50%;\n",
       "}\n",
       "\n",
       "#sk-container-id-1 div.sk-parallel-item:only-child::after {\n",
       "  width: 0;\n",
       "}\n",
       "\n",
       "/* Serial-specific style estimator block */\n",
       "\n",
       "#sk-container-id-1 div.sk-serial {\n",
       "  display: flex;\n",
       "  flex-direction: column;\n",
       "  align-items: center;\n",
       "  background-color: var(--sklearn-color-background);\n",
       "  padding-right: 1em;\n",
       "  padding-left: 1em;\n",
       "}\n",
       "\n",
       "\n",
       "/* Toggleable style: style used for estimator/Pipeline/ColumnTransformer box that is\n",
       "clickable and can be expanded/collapsed.\n",
       "- Pipeline and ColumnTransformer use this feature and define the default style\n",
       "- Estimators will overwrite some part of the style using the `sk-estimator` class\n",
       "*/\n",
       "\n",
       "/* Pipeline and ColumnTransformer style (default) */\n",
       "\n",
       "#sk-container-id-1 div.sk-toggleable {\n",
       "  /* Default theme specific background. It is overwritten whether we have a\n",
       "  specific estimator or a Pipeline/ColumnTransformer */\n",
       "  background-color: var(--sklearn-color-background);\n",
       "}\n",
       "\n",
       "/* Toggleable label */\n",
       "#sk-container-id-1 label.sk-toggleable__label {\n",
       "  cursor: pointer;\n",
       "  display: flex;\n",
       "  width: 100%;\n",
       "  margin-bottom: 0;\n",
       "  padding: 0.5em;\n",
       "  box-sizing: border-box;\n",
       "  text-align: center;\n",
       "  align-items: start;\n",
       "  justify-content: space-between;\n",
       "  gap: 0.5em;\n",
       "}\n",
       "\n",
       "#sk-container-id-1 label.sk-toggleable__label .caption {\n",
       "  font-size: 0.6rem;\n",
       "  font-weight: lighter;\n",
       "  color: var(--sklearn-color-text-muted);\n",
       "}\n",
       "\n",
       "#sk-container-id-1 label.sk-toggleable__label-arrow:before {\n",
       "  /* Arrow on the left of the label */\n",
       "  content: \"▸\";\n",
       "  float: left;\n",
       "  margin-right: 0.25em;\n",
       "  color: var(--sklearn-color-icon);\n",
       "}\n",
       "\n",
       "#sk-container-id-1 label.sk-toggleable__label-arrow:hover:before {\n",
       "  color: var(--sklearn-color-text);\n",
       "}\n",
       "\n",
       "/* Toggleable content - dropdown */\n",
       "\n",
       "#sk-container-id-1 div.sk-toggleable__content {\n",
       "  max-height: 0;\n",
       "  max-width: 0;\n",
       "  overflow: hidden;\n",
       "  text-align: left;\n",
       "  /* unfitted */\n",
       "  background-color: var(--sklearn-color-unfitted-level-0);\n",
       "}\n",
       "\n",
       "#sk-container-id-1 div.sk-toggleable__content.fitted {\n",
       "  /* fitted */\n",
       "  background-color: var(--sklearn-color-fitted-level-0);\n",
       "}\n",
       "\n",
       "#sk-container-id-1 div.sk-toggleable__content pre {\n",
       "  margin: 0.2em;\n",
       "  border-radius: 0.25em;\n",
       "  color: var(--sklearn-color-text);\n",
       "  /* unfitted */\n",
       "  background-color: var(--sklearn-color-unfitted-level-0);\n",
       "}\n",
       "\n",
       "#sk-container-id-1 div.sk-toggleable__content.fitted pre {\n",
       "  /* unfitted */\n",
       "  background-color: var(--sklearn-color-fitted-level-0);\n",
       "}\n",
       "\n",
       "#sk-container-id-1 input.sk-toggleable__control:checked~div.sk-toggleable__content {\n",
       "  /* Expand drop-down */\n",
       "  max-height: 200px;\n",
       "  max-width: 100%;\n",
       "  overflow: auto;\n",
       "}\n",
       "\n",
       "#sk-container-id-1 input.sk-toggleable__control:checked~label.sk-toggleable__label-arrow:before {\n",
       "  content: \"▾\";\n",
       "}\n",
       "\n",
       "/* Pipeline/ColumnTransformer-specific style */\n",
       "\n",
       "#sk-container-id-1 div.sk-label input.sk-toggleable__control:checked~label.sk-toggleable__label {\n",
       "  color: var(--sklearn-color-text);\n",
       "  background-color: var(--sklearn-color-unfitted-level-2);\n",
       "}\n",
       "\n",
       "#sk-container-id-1 div.sk-label.fitted input.sk-toggleable__control:checked~label.sk-toggleable__label {\n",
       "  background-color: var(--sklearn-color-fitted-level-2);\n",
       "}\n",
       "\n",
       "/* Estimator-specific style */\n",
       "\n",
       "/* Colorize estimator box */\n",
       "#sk-container-id-1 div.sk-estimator input.sk-toggleable__control:checked~label.sk-toggleable__label {\n",
       "  /* unfitted */\n",
       "  background-color: var(--sklearn-color-unfitted-level-2);\n",
       "}\n",
       "\n",
       "#sk-container-id-1 div.sk-estimator.fitted input.sk-toggleable__control:checked~label.sk-toggleable__label {\n",
       "  /* fitted */\n",
       "  background-color: var(--sklearn-color-fitted-level-2);\n",
       "}\n",
       "\n",
       "#sk-container-id-1 div.sk-label label.sk-toggleable__label,\n",
       "#sk-container-id-1 div.sk-label label {\n",
       "  /* The background is the default theme color */\n",
       "  color: var(--sklearn-color-text-on-default-background);\n",
       "}\n",
       "\n",
       "/* On hover, darken the color of the background */\n",
       "#sk-container-id-1 div.sk-label:hover label.sk-toggleable__label {\n",
       "  color: var(--sklearn-color-text);\n",
       "  background-color: var(--sklearn-color-unfitted-level-2);\n",
       "}\n",
       "\n",
       "/* Label box, darken color on hover, fitted */\n",
       "#sk-container-id-1 div.sk-label.fitted:hover label.sk-toggleable__label.fitted {\n",
       "  color: var(--sklearn-color-text);\n",
       "  background-color: var(--sklearn-color-fitted-level-2);\n",
       "}\n",
       "\n",
       "/* Estimator label */\n",
       "\n",
       "#sk-container-id-1 div.sk-label label {\n",
       "  font-family: monospace;\n",
       "  font-weight: bold;\n",
       "  display: inline-block;\n",
       "  line-height: 1.2em;\n",
       "}\n",
       "\n",
       "#sk-container-id-1 div.sk-label-container {\n",
       "  text-align: center;\n",
       "}\n",
       "\n",
       "/* Estimator-specific */\n",
       "#sk-container-id-1 div.sk-estimator {\n",
       "  font-family: monospace;\n",
       "  border: 1px dotted var(--sklearn-color-border-box);\n",
       "  border-radius: 0.25em;\n",
       "  box-sizing: border-box;\n",
       "  margin-bottom: 0.5em;\n",
       "  /* unfitted */\n",
       "  background-color: var(--sklearn-color-unfitted-level-0);\n",
       "}\n",
       "\n",
       "#sk-container-id-1 div.sk-estimator.fitted {\n",
       "  /* fitted */\n",
       "  background-color: var(--sklearn-color-fitted-level-0);\n",
       "}\n",
       "\n",
       "/* on hover */\n",
       "#sk-container-id-1 div.sk-estimator:hover {\n",
       "  /* unfitted */\n",
       "  background-color: var(--sklearn-color-unfitted-level-2);\n",
       "}\n",
       "\n",
       "#sk-container-id-1 div.sk-estimator.fitted:hover {\n",
       "  /* fitted */\n",
       "  background-color: var(--sklearn-color-fitted-level-2);\n",
       "}\n",
       "\n",
       "/* Specification for estimator info (e.g. \"i\" and \"?\") */\n",
       "\n",
       "/* Common style for \"i\" and \"?\" */\n",
       "\n",
       ".sk-estimator-doc-link,\n",
       "a:link.sk-estimator-doc-link,\n",
       "a:visited.sk-estimator-doc-link {\n",
       "  float: right;\n",
       "  font-size: smaller;\n",
       "  line-height: 1em;\n",
       "  font-family: monospace;\n",
       "  background-color: var(--sklearn-color-background);\n",
       "  border-radius: 1em;\n",
       "  height: 1em;\n",
       "  width: 1em;\n",
       "  text-decoration: none !important;\n",
       "  margin-left: 0.5em;\n",
       "  text-align: center;\n",
       "  /* unfitted */\n",
       "  border: var(--sklearn-color-unfitted-level-1) 1pt solid;\n",
       "  color: var(--sklearn-color-unfitted-level-1);\n",
       "}\n",
       "\n",
       ".sk-estimator-doc-link.fitted,\n",
       "a:link.sk-estimator-doc-link.fitted,\n",
       "a:visited.sk-estimator-doc-link.fitted {\n",
       "  /* fitted */\n",
       "  border: var(--sklearn-color-fitted-level-1) 1pt solid;\n",
       "  color: var(--sklearn-color-fitted-level-1);\n",
       "}\n",
       "\n",
       "/* On hover */\n",
       "div.sk-estimator:hover .sk-estimator-doc-link:hover,\n",
       ".sk-estimator-doc-link:hover,\n",
       "div.sk-label-container:hover .sk-estimator-doc-link:hover,\n",
       ".sk-estimator-doc-link:hover {\n",
       "  /* unfitted */\n",
       "  background-color: var(--sklearn-color-unfitted-level-3);\n",
       "  color: var(--sklearn-color-background);\n",
       "  text-decoration: none;\n",
       "}\n",
       "\n",
       "div.sk-estimator.fitted:hover .sk-estimator-doc-link.fitted:hover,\n",
       ".sk-estimator-doc-link.fitted:hover,\n",
       "div.sk-label-container:hover .sk-estimator-doc-link.fitted:hover,\n",
       ".sk-estimator-doc-link.fitted:hover {\n",
       "  /* fitted */\n",
       "  background-color: var(--sklearn-color-fitted-level-3);\n",
       "  color: var(--sklearn-color-background);\n",
       "  text-decoration: none;\n",
       "}\n",
       "\n",
       "/* Span, style for the box shown on hovering the info icon */\n",
       ".sk-estimator-doc-link span {\n",
       "  display: none;\n",
       "  z-index: 9999;\n",
       "  position: relative;\n",
       "  font-weight: normal;\n",
       "  right: .2ex;\n",
       "  padding: .5ex;\n",
       "  margin: .5ex;\n",
       "  width: min-content;\n",
       "  min-width: 20ex;\n",
       "  max-width: 50ex;\n",
       "  color: var(--sklearn-color-text);\n",
       "  box-shadow: 2pt 2pt 4pt #999;\n",
       "  /* unfitted */\n",
       "  background: var(--sklearn-color-unfitted-level-0);\n",
       "  border: .5pt solid var(--sklearn-color-unfitted-level-3);\n",
       "}\n",
       "\n",
       ".sk-estimator-doc-link.fitted span {\n",
       "  /* fitted */\n",
       "  background: var(--sklearn-color-fitted-level-0);\n",
       "  border: var(--sklearn-color-fitted-level-3);\n",
       "}\n",
       "\n",
       ".sk-estimator-doc-link:hover span {\n",
       "  display: block;\n",
       "}\n",
       "\n",
       "/* \"?\"-specific style due to the `<a>` HTML tag */\n",
       "\n",
       "#sk-container-id-1 a.estimator_doc_link {\n",
       "  float: right;\n",
       "  font-size: 1rem;\n",
       "  line-height: 1em;\n",
       "  font-family: monospace;\n",
       "  background-color: var(--sklearn-color-background);\n",
       "  border-radius: 1rem;\n",
       "  height: 1rem;\n",
       "  width: 1rem;\n",
       "  text-decoration: none;\n",
       "  /* unfitted */\n",
       "  color: var(--sklearn-color-unfitted-level-1);\n",
       "  border: var(--sklearn-color-unfitted-level-1) 1pt solid;\n",
       "}\n",
       "\n",
       "#sk-container-id-1 a.estimator_doc_link.fitted {\n",
       "  /* fitted */\n",
       "  border: var(--sklearn-color-fitted-level-1) 1pt solid;\n",
       "  color: var(--sklearn-color-fitted-level-1);\n",
       "}\n",
       "\n",
       "/* On hover */\n",
       "#sk-container-id-1 a.estimator_doc_link:hover {\n",
       "  /* unfitted */\n",
       "  background-color: var(--sklearn-color-unfitted-level-3);\n",
       "  color: var(--sklearn-color-background);\n",
       "  text-decoration: none;\n",
       "}\n",
       "\n",
       "#sk-container-id-1 a.estimator_doc_link.fitted:hover {\n",
       "  /* fitted */\n",
       "  background-color: var(--sklearn-color-fitted-level-3);\n",
       "}\n",
       "</style><div id=\"sk-container-id-1\" class=\"sk-top-container\"><div class=\"sk-text-repr-fallback\"><pre>DecisionTreeClassifier(criterion=&#x27;entropy&#x27;, max_depth=4)</pre><b>In a Jupyter environment, please rerun this cell to show the HTML representation or trust the notebook. <br />On GitHub, the HTML representation is unable to render, please try loading this page with nbviewer.org.</b></div><div class=\"sk-container\" hidden><div class=\"sk-item\"><div class=\"sk-estimator fitted sk-toggleable\"><input class=\"sk-toggleable__control sk-hidden--visually\" id=\"sk-estimator-id-1\" type=\"checkbox\" checked><label for=\"sk-estimator-id-1\" class=\"sk-toggleable__label fitted sk-toggleable__label-arrow\"><div><div>DecisionTreeClassifier</div></div><div><a class=\"sk-estimator-doc-link fitted\" rel=\"noreferrer\" target=\"_blank\" href=\"https://scikit-learn.org/1.6/modules/generated/sklearn.tree.DecisionTreeClassifier.html\">?<span>Documentation for DecisionTreeClassifier</span></a><span class=\"sk-estimator-doc-link fitted\">i<span>Fitted</span></span></div></label><div class=\"sk-toggleable__content fitted\"><pre>DecisionTreeClassifier(criterion=&#x27;entropy&#x27;, max_depth=4)</pre></div> </div></div></div></div>"
      ],
      "text/plain": [
       "DecisionTreeClassifier(criterion='entropy', max_depth=4)"
      ]
     },
     "execution_count": 37,
     "metadata": {},
     "output_type": "execute_result"
    }
   ],
   "source": [
    "drugTree.fit(X_trainset,y_trainset)"
   ]
  },
  {
   "cell_type": "markdown",
   "id": "f8188534-a93c-4054-a0f7-894bef897786",
   "metadata": {},
   "source": [
    "### Evaluation\n"
   ]
  },
  {
   "cell_type": "markdown",
   "id": "dcc90f2a-b778-4fea-a9a3-07c9814877f2",
   "metadata": {},
   "source": [
    "Now that you have trained the decision tree, we can use it to generate the predictions on the test set.\n"
   ]
  },
  {
   "cell_type": "code",
   "execution_count": 38,
   "id": "a1eba5b5-2f4d-4b62-84c8-2722a6842516",
   "metadata": {},
   "outputs": [],
   "source": [
    "tree_predictions = drugTree.predict(X_testset)"
   ]
  },
  {
   "cell_type": "code",
   "execution_count": 43,
   "metadata": {},
   "outputs": [
    {
     "data": {
      "text/plain": [
       "array(['drugY', 'drugB', 'drugX', 'drugA', 'drugY', 'drugY', 'drugA',\n",
       "       'drugY', 'drugY', 'drugX', 'drugX', 'drugX', 'drugX', 'drugY',\n",
       "       'drugC', 'drugY', 'drugY', 'drugA', 'drugY', 'drugA', 'drugY',\n",
       "       'drugA', 'drugY', 'drugX', 'drugX', 'drugY', 'drugB', 'drugY',\n",
       "       'drugX', 'drugY', 'drugY', 'drugC', 'drugC', 'drugY', 'drugY',\n",
       "       'drugY', 'drugY', 'drugA', 'drugY', 'drugX', 'drugA', 'drugY',\n",
       "       'drugY', 'drugX', 'drugY', 'drugX', 'drugY', 'drugA', 'drugY',\n",
       "       'drugX', 'drugB', 'drugY', 'drugX', 'drugX', 'drugY', 'drugB',\n",
       "       'drugX', 'drugY', 'drugB', 'drugY'], dtype=object)"
      ]
     },
     "execution_count": 43,
     "metadata": {},
     "output_type": "execute_result"
    }
   ],
   "source": [
    "tree_predictions"
   ]
  },
  {
   "cell_type": "markdown",
   "id": "a6d14186-c8b8-4889-b4fa-73ac249d72e5",
   "metadata": {},
   "source": [
    "We can now check the accuracy of our model by using the accuracy metric.\n"
   ]
  },
  {
   "cell_type": "code",
   "execution_count": 39,
   "id": "9e5ad7dd-580f-45db-9ea2-d2f6fbd5f11c",
   "metadata": {},
   "outputs": [
    {
     "name": "stdout",
     "output_type": "stream",
     "text": [
      "Decision Trees's Accuracy:  0.9833333333333333\n"
     ]
    }
   ],
   "source": [
    "print(\"Decision Trees's Accuracy: \", metrics.accuracy_score(y_testset, tree_predictions))"
   ]
  },
  {
   "cell_type": "markdown",
   "id": "c3a1028d-2076-40d7-98d1-e4a4ebce5276",
   "metadata": {},
   "source": [
    "This means that the model was able to correctly identify the labels of 98.33%, i.e. 59 out of 60 test samples. \n"
   ]
  },
  {
   "cell_type": "markdown",
   "id": "02d151a5-9ea3-4314-9425-df8e80cb55a5",
   "metadata": {},
   "source": [
    "### Visualize the tree\n",
    "\n",
    "To understand the classification criteria derived by the Decision Tree, we may generate the tree plot.\n"
   ]
  },
  {
   "cell_type": "code",
   "execution_count": 46,
   "metadata": {},
   "outputs": [
    {
     "data": {
      "image/png": "[encoded data removed]",
      "text/plain": [
       "<Figure size 800x600 with 2 Axes>"
      ]
     },
     "metadata": {},
     "output_type": "display_data"
    }
   ],
   "source": [
    "from sklearn.metrics import confusion_matrix\n",
    "import seaborn as sns\n",
    "import matplotlib.pyplot as plt\n",
    "\n",
    "# Generate confusion matrix\n",
    "cm = confusion_matrix(y_testset, tree_predictions)\n",
    "\n",
    "# Visualize confusion matrix\n",
    "plt.figure(figsize=(8,6))\n",
    "sns.heatmap(cm, annot=True, fmt='d', cmap='Blues',\n",
    "            xticklabels=drugTree.classes_,\n",
    "            yticklabels=drugTree.classes_)\n",
    "plt.xlabel(\"Predicted\")\n",
    "plt.ylabel(\"Actual\")\n",
    "plt.title(\"Confusion Matrix\")\n",
    "plt.show()\n"
   ]
  },
  {
   "cell_type": "code",
   "execution_count": 44,
   "id": "b42e28c5-30fd-458b-b4c8-d09ada75ba96",
   "metadata": {},
   "outputs": [
    {
     "data": {
      "image/png": "[encoded data removed]",
      "text/plain": [
       "<Figure size 640x480 with 1 Axes>"
      ]
     },
     "metadata": {},
     "output_type": "display_data"
    }
   ],
   "source": [
    "plot_tree(drugTree)\n",
    "plt.show()"
   ]
  },
  {
   "cell_type": "markdown",
   "id": "f119c932-8bb2-4495-8402-da2b88214308",
   "metadata": {},
   "source": [
    "From this tree, we can derive the criteria developed by the model to identify the class of each training sample. We can interpret them by tracing the criteria defined by tracing down from the root to the tree's leaf nodes.\n",
    "\n",
    "For instance, the decision criterion for Drug Y is ${Na\\_to\\_K} \\gt 14.627$.\n",
    "\n",
    "#### Practice Question:\n",
    "Along similar lines, identify the decision criteria for all other classes.\n"
   ]
  },
  {
   "cell_type": "markdown",
   "metadata": {},
   "source": [
    "Drug A : $Na\\_to\\_K <= 14.627,\\ BP = High,\\ Age <= 50.5$<br>\n",
    "Drug B : $Na\\_to\\_K <= 14.627,\\ BP = High,\\ Age > 50.5$<br>\n",
    "Drug C : $Na\\_to\\_K <= 14.627,\\ BP = Low,\\ Cholesterol <= High$<br>\n",
    "Drug X : $Na\\_to\\_K <= 14.627,\\ BP = Normal,\\ Cholesterol = High$"
   ]
  },
  {
   "cell_type": "markdown",
   "id": "f0fc8035-f3a1-4bc7-bb58-0b3d30934d2c",
   "metadata": {},
   "source": [
    "#### Practice Question:\n",
    "\n",
    "If the max depth of the tree is reduced to 3, how would the performance of the model be affected?\n"
   ]
  },
  {
   "cell_type": "code",
   "execution_count": 49,
   "id": "18914518-0c1b-45c7-8379-dad0eeeced52",
   "metadata": {},
   "outputs": [
    {
     "name": "stdout",
     "output_type": "stream",
     "text": [
      "Decision Tree 2's Accuracy:  0.8166666666666667\n"
     ]
    }
   ],
   "source": [
    "# your code here\n",
    "drugTree2 = DecisionTreeClassifier(criterion=\"entropy\", max_depth = 3)\n",
    "drugTree2.fit(X_trainset, y_trainset)\n",
    "tree_predictions2 = drugTree2.predict(X_testset)\n",
    "tree_predictions2\n",
    "print(\"Decision Tree 2's Accuracy: \", metrics.accuracy_score(y_testset, tree_predictions2))"
   ]
  }
 ],
 "metadata": {
  "kernelspec": {
   "display_name": "Python 3",
   "language": "python",
   "name": "python3"
  },
  "language_info": {
   "codemirror_mode": {
    "name": "ipython",
    "version": 3
   },
   "file_extension": ".py",
   "mimetype": "text/x-python",
   "name": "python",
   "nbconvert_exporter": "python",
   "pygments_lexer": "ipython3",
   "version": "3.12.2"
  },
  "prev_pub_hash": "00580420213cad74ff8689516a427dcef24eb5ea5d7bd2030b8668f234ac6ae8"
 },
 "nbformat": 4,
 "nbformat_minor": 4
}
